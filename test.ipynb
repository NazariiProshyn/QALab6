{
 "metadata": {
  "language_info": {
   "codemirror_mode": {
    "name": "ipython",
    "version": 3
   },
   "file_extension": ".py",
   "mimetype": "text/x-python",
   "name": "python",
   "nbconvert_exporter": "python",
   "pygments_lexer": "ipython3",
   "version": "3.7.0"
  },
  "orig_nbformat": 2,
  "kernelspec": {
   "name": "python370jvsc74a57bd04ce0e62306dd6a5716965d4519ada776f947e6dfc145b604b11307c10277ef29",
   "display_name": "Python 3.7.0 64-bit"
  },
  "metadata": {
   "interpreter": {
    "hash": "4ce0e62306dd6a5716965d4519ada776f947e6dfc145b604b11307c10277ef29"
   }
  }
 },
 "nbformat": 4,
 "nbformat_minor": 2,
 "cells": [
  {
   "cell_type": "code",
   "execution_count": 36,
   "metadata": {},
   "outputs": [
    {
     "output_type": "stream",
     "name": "stdout",
     "text": [
      "Test DONE!\n"
     ]
    }
   ],
   "source": [
    "import time\n",
    "from selenium import webdriver\n",
    "from selenium.webdriver.common.keys import Keys\n",
    "\n",
    "siteAdress = \"https://www.foxtrot.com.ua\"\n",
    "inputSelector = 'header-search__field'\n",
    "outputSelector = 'page__title'\n",
    "searchText = 'ASUS'\n",
    "resultText = \"Бренд ASUS\"\n",
    "\n",
    "\n",
    "browser = webdriver.Chrome()\n",
    "time.sleep(1)\n",
    "browser.get(siteAdress)\n",
    "time.sleep(1)\n",
    "search_bar = browser.find_element_by_class_name(inputSelector)\n",
    "search_bar.send_keys(searchText)\n",
    "search_bar.send_keys(Keys.RETURN)\n",
    "time.sleep(1)\n",
    "\n",
    "actualResult = browser.find_elements_by_class_name(outputSelector)[0].text\n",
    "assert resultText == actualResult\n",
    "print(\"Test DONE!\")"
   ]
  }
 ]
}