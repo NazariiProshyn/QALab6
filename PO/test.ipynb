{
 "metadata": {
  "language_info": {
   "codemirror_mode": {
    "name": "ipython",
    "version": 3
   },
   "file_extension": ".py",
   "mimetype": "text/x-python",
   "name": "python",
   "nbconvert_exporter": "python",
   "pygments_lexer": "ipython3",
   "version": "3.7.0"
  },
  "orig_nbformat": 2,
  "kernelspec": {
   "name": "python370jvsc74a57bd04ce0e62306dd6a5716965d4519ada776f947e6dfc145b604b11307c10277ef29",
   "display_name": "Python 3.7.0 64-bit"
  },
  "metadata": {
   "interpreter": {
    "hash": "4ce0e62306dd6a5716965d4519ada776f947e6dfc145b604b11307c10277ef29"
   }
  }
 },
 "nbformat": 4,
 "nbformat_minor": 2,
 "cells": [
  {
   "cell_type": "code",
   "execution_count": 1,
   "metadata": {},
   "outputs": [
    {
     "output_type": "stream",
     "name": "stdout",
     "text": [
      "GOOD\n"
     ]
    }
   ],
   "source": [
    "from GooglePages import SearchHelper\n",
    "\n",
    "def test_yandex_search(browser):\n",
    "    google_main_page = SearchHelper(browser)\n",
    "    google_main_page.go_to_site()\n",
    "    google_main_page.enter_word(\"Hello\")\n",
    "    elements = google_main_page.check_navigation_bar()\n",
    "    assert \"Картинки\" and \"Видео\" in elements\n",
    "print(\"GOOD\")"
   ]
  }
 ]
}